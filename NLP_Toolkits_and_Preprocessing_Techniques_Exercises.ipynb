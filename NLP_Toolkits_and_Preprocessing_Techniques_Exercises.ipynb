{
  "cells": [
    {
      "cell_type": "markdown",
      "metadata": {
        "id": "view-in-github",
        "colab_type": "text"
      },
      "source": [
        "<a href=\"https://colab.research.google.com/github/bhagya2000-hub/NLP_Toolkits_and_Preprocessing_Techniques_Exercises.ipynb/blob/main/NLP_Toolkits_and_Preprocessing_Techniques_Exercises.ipynb\" target=\"_parent\"><img src=\"https://colab.research.google.com/assets/colab-badge.svg\" alt=\"Open In Colab\"/></a>"
      ]
    },
    {
      "cell_type": "markdown",
      "metadata": {
        "id": "LgfO7Alf-FvT"
      },
      "source": [
        "# NLP Toolkits and Preprocessing Exercises"
      ]
    },
    {
      "cell_type": "markdown",
      "metadata": {
        "id": "vhpzUt2N-Fva"
      },
      "source": [
        "## Introduction"
      ]
    },
    {
      "cell_type": "markdown",
      "metadata": {
        "id": "jvk0YJ-1-Fva"
      },
      "source": [
        "We will be using [review data from Kaggle](https://www.kaggle.com/snap/amazon-fine-food-reviews) to practice preprocessing text data. The dataset contains user reviews for many products, but today we'll be focusing on the product in the dataset that had the most reviews - an oatmeal cookie.\n",
        "\n",
        "The following code will help you load in the data. If this is your first time using nltk, you'll to need to pip install it first."
      ]
    },
    {
      "cell_type": "code",
      "execution_count": 1,
      "metadata": {
        "collapsed": true,
        "id": "5fy2OxF6-Fva"
      },
      "outputs": [],
      "source": [
        "import nltk\n",
        "# nltk.download() <-- Run this if it's your first time using nltk to download all of the datasets and models\n",
        "\n",
        "import pandas as pd"
      ]
    },
    {
      "cell_type": "code",
      "execution_count": 25,
      "metadata": {
        "colab": {
          "base_uri": "https://localhost:8080/",
          "height": 206
        },
        "id": "aGrhPjn6-Fvb",
        "outputId": "8d7f695a-fe07-4f2a-f759-b772aac67ba9"
      },
      "outputs": [
        {
          "output_type": "execute_result",
          "data": {
            "text/plain": [
              "          user_id  stars                                            reviews\n",
              "0  A368Z46FIKHSEZ      5  I love these cookies!  Not only are they healt...\n",
              "1  A1JAPP1CXRG57A      5  Quaker Soft Baked Oatmeal Cookies with raisins...\n",
              "2  A2Z9JNXPIEL2B9      5  I am usually not a huge fan of oatmeal cookies...\n",
              "3  A31CYJQO3FL586      5  I participated in a product review that includ...\n",
              "4  A2KXQ2EKFF3K2G      5  My kids loved these. I was very pleased to giv..."
            ],
            "text/html": [
              "\n",
              "  <div id=\"df-d5277ed2-bfeb-4927-98dd-2d530e65b4c6\" class=\"colab-df-container\">\n",
              "    <div>\n",
              "<style scoped>\n",
              "    .dataframe tbody tr th:only-of-type {\n",
              "        vertical-align: middle;\n",
              "    }\n",
              "\n",
              "    .dataframe tbody tr th {\n",
              "        vertical-align: top;\n",
              "    }\n",
              "\n",
              "    .dataframe thead th {\n",
              "        text-align: right;\n",
              "    }\n",
              "</style>\n",
              "<table border=\"1\" class=\"dataframe\">\n",
              "  <thead>\n",
              "    <tr style=\"text-align: right;\">\n",
              "      <th></th>\n",
              "      <th>user_id</th>\n",
              "      <th>stars</th>\n",
              "      <th>reviews</th>\n",
              "    </tr>\n",
              "  </thead>\n",
              "  <tbody>\n",
              "    <tr>\n",
              "      <th>0</th>\n",
              "      <td>A368Z46FIKHSEZ</td>\n",
              "      <td>5</td>\n",
              "      <td>I love these cookies!  Not only are they healt...</td>\n",
              "    </tr>\n",
              "    <tr>\n",
              "      <th>1</th>\n",
              "      <td>A1JAPP1CXRG57A</td>\n",
              "      <td>5</td>\n",
              "      <td>Quaker Soft Baked Oatmeal Cookies with raisins...</td>\n",
              "    </tr>\n",
              "    <tr>\n",
              "      <th>2</th>\n",
              "      <td>A2Z9JNXPIEL2B9</td>\n",
              "      <td>5</td>\n",
              "      <td>I am usually not a huge fan of oatmeal cookies...</td>\n",
              "    </tr>\n",
              "    <tr>\n",
              "      <th>3</th>\n",
              "      <td>A31CYJQO3FL586</td>\n",
              "      <td>5</td>\n",
              "      <td>I participated in a product review that includ...</td>\n",
              "    </tr>\n",
              "    <tr>\n",
              "      <th>4</th>\n",
              "      <td>A2KXQ2EKFF3K2G</td>\n",
              "      <td>5</td>\n",
              "      <td>My kids loved these. I was very pleased to giv...</td>\n",
              "    </tr>\n",
              "  </tbody>\n",
              "</table>\n",
              "</div>\n",
              "    <div class=\"colab-df-buttons\">\n",
              "\n",
              "  <div class=\"colab-df-container\">\n",
              "    <button class=\"colab-df-convert\" onclick=\"convertToInteractive('df-d5277ed2-bfeb-4927-98dd-2d530e65b4c6')\"\n",
              "            title=\"Convert this dataframe to an interactive table.\"\n",
              "            style=\"display:none;\">\n",
              "\n",
              "  <svg xmlns=\"http://www.w3.org/2000/svg\" height=\"24px\" viewBox=\"0 -960 960 960\">\n",
              "    <path d=\"M120-120v-720h720v720H120Zm60-500h600v-160H180v160Zm220 220h160v-160H400v160Zm0 220h160v-160H400v160ZM180-400h160v-160H180v160Zm440 0h160v-160H620v160ZM180-180h160v-160H180v160Zm440 0h160v-160H620v160Z\"/>\n",
              "  </svg>\n",
              "    </button>\n",
              "\n",
              "  <style>\n",
              "    .colab-df-container {\n",
              "      display:flex;\n",
              "      gap: 12px;\n",
              "    }\n",
              "\n",
              "    .colab-df-convert {\n",
              "      background-color: #E8F0FE;\n",
              "      border: none;\n",
              "      border-radius: 50%;\n",
              "      cursor: pointer;\n",
              "      display: none;\n",
              "      fill: #1967D2;\n",
              "      height: 32px;\n",
              "      padding: 0 0 0 0;\n",
              "      width: 32px;\n",
              "    }\n",
              "\n",
              "    .colab-df-convert:hover {\n",
              "      background-color: #E2EBFA;\n",
              "      box-shadow: 0px 1px 2px rgba(60, 64, 67, 0.3), 0px 1px 3px 1px rgba(60, 64, 67, 0.15);\n",
              "      fill: #174EA6;\n",
              "    }\n",
              "\n",
              "    .colab-df-buttons div {\n",
              "      margin-bottom: 4px;\n",
              "    }\n",
              "\n",
              "    [theme=dark] .colab-df-convert {\n",
              "      background-color: #3B4455;\n",
              "      fill: #D2E3FC;\n",
              "    }\n",
              "\n",
              "    [theme=dark] .colab-df-convert:hover {\n",
              "      background-color: #434B5C;\n",
              "      box-shadow: 0px 1px 3px 1px rgba(0, 0, 0, 0.15);\n",
              "      filter: drop-shadow(0px 1px 2px rgba(0, 0, 0, 0.3));\n",
              "      fill: #FFFFFF;\n",
              "    }\n",
              "  </style>\n",
              "\n",
              "    <script>\n",
              "      const buttonEl =\n",
              "        document.querySelector('#df-d5277ed2-bfeb-4927-98dd-2d530e65b4c6 button.colab-df-convert');\n",
              "      buttonEl.style.display =\n",
              "        google.colab.kernel.accessAllowed ? 'block' : 'none';\n",
              "\n",
              "      async function convertToInteractive(key) {\n",
              "        const element = document.querySelector('#df-d5277ed2-bfeb-4927-98dd-2d530e65b4c6');\n",
              "        const dataTable =\n",
              "          await google.colab.kernel.invokeFunction('convertToInteractive',\n",
              "                                                    [key], {});\n",
              "        if (!dataTable) return;\n",
              "\n",
              "        const docLinkHtml = 'Like what you see? Visit the ' +\n",
              "          '<a target=\"_blank\" href=https://colab.research.google.com/notebooks/data_table.ipynb>data table notebook</a>'\n",
              "          + ' to learn more about interactive tables.';\n",
              "        element.innerHTML = '';\n",
              "        dataTable['output_type'] = 'display_data';\n",
              "        await google.colab.output.renderOutput(dataTable, element);\n",
              "        const docLink = document.createElement('div');\n",
              "        docLink.innerHTML = docLinkHtml;\n",
              "        element.appendChild(docLink);\n",
              "      }\n",
              "    </script>\n",
              "  </div>\n",
              "\n",
              "\n",
              "<div id=\"df-92b80498-3567-4583-9015-49a96e3ac1ba\">\n",
              "  <button class=\"colab-df-quickchart\" onclick=\"quickchart('df-92b80498-3567-4583-9015-49a96e3ac1ba')\"\n",
              "            title=\"Suggest charts\"\n",
              "            style=\"display:none;\">\n",
              "\n",
              "<svg xmlns=\"http://www.w3.org/2000/svg\" height=\"24px\"viewBox=\"0 0 24 24\"\n",
              "     width=\"24px\">\n",
              "    <g>\n",
              "        <path d=\"M19 3H5c-1.1 0-2 .9-2 2v14c0 1.1.9 2 2 2h14c1.1 0 2-.9 2-2V5c0-1.1-.9-2-2-2zM9 17H7v-7h2v7zm4 0h-2V7h2v10zm4 0h-2v-4h2v4z\"/>\n",
              "    </g>\n",
              "</svg>\n",
              "  </button>\n",
              "\n",
              "<style>\n",
              "  .colab-df-quickchart {\n",
              "      --bg-color: #E8F0FE;\n",
              "      --fill-color: #1967D2;\n",
              "      --hover-bg-color: #E2EBFA;\n",
              "      --hover-fill-color: #174EA6;\n",
              "      --disabled-fill-color: #AAA;\n",
              "      --disabled-bg-color: #DDD;\n",
              "  }\n",
              "\n",
              "  [theme=dark] .colab-df-quickchart {\n",
              "      --bg-color: #3B4455;\n",
              "      --fill-color: #D2E3FC;\n",
              "      --hover-bg-color: #434B5C;\n",
              "      --hover-fill-color: #FFFFFF;\n",
              "      --disabled-bg-color: #3B4455;\n",
              "      --disabled-fill-color: #666;\n",
              "  }\n",
              "\n",
              "  .colab-df-quickchart {\n",
              "    background-color: var(--bg-color);\n",
              "    border: none;\n",
              "    border-radius: 50%;\n",
              "    cursor: pointer;\n",
              "    display: none;\n",
              "    fill: var(--fill-color);\n",
              "    height: 32px;\n",
              "    padding: 0;\n",
              "    width: 32px;\n",
              "  }\n",
              "\n",
              "  .colab-df-quickchart:hover {\n",
              "    background-color: var(--hover-bg-color);\n",
              "    box-shadow: 0 1px 2px rgba(60, 64, 67, 0.3), 0 1px 3px 1px rgba(60, 64, 67, 0.15);\n",
              "    fill: var(--button-hover-fill-color);\n",
              "  }\n",
              "\n",
              "  .colab-df-quickchart-complete:disabled,\n",
              "  .colab-df-quickchart-complete:disabled:hover {\n",
              "    background-color: var(--disabled-bg-color);\n",
              "    fill: var(--disabled-fill-color);\n",
              "    box-shadow: none;\n",
              "  }\n",
              "\n",
              "  .colab-df-spinner {\n",
              "    border: 2px solid var(--fill-color);\n",
              "    border-color: transparent;\n",
              "    border-bottom-color: var(--fill-color);\n",
              "    animation:\n",
              "      spin 1s steps(1) infinite;\n",
              "  }\n",
              "\n",
              "  @keyframes spin {\n",
              "    0% {\n",
              "      border-color: transparent;\n",
              "      border-bottom-color: var(--fill-color);\n",
              "      border-left-color: var(--fill-color);\n",
              "    }\n",
              "    20% {\n",
              "      border-color: transparent;\n",
              "      border-left-color: var(--fill-color);\n",
              "      border-top-color: var(--fill-color);\n",
              "    }\n",
              "    30% {\n",
              "      border-color: transparent;\n",
              "      border-left-color: var(--fill-color);\n",
              "      border-top-color: var(--fill-color);\n",
              "      border-right-color: var(--fill-color);\n",
              "    }\n",
              "    40% {\n",
              "      border-color: transparent;\n",
              "      border-right-color: var(--fill-color);\n",
              "      border-top-color: var(--fill-color);\n",
              "    }\n",
              "    60% {\n",
              "      border-color: transparent;\n",
              "      border-right-color: var(--fill-color);\n",
              "    }\n",
              "    80% {\n",
              "      border-color: transparent;\n",
              "      border-right-color: var(--fill-color);\n",
              "      border-bottom-color: var(--fill-color);\n",
              "    }\n",
              "    90% {\n",
              "      border-color: transparent;\n",
              "      border-bottom-color: var(--fill-color);\n",
              "    }\n",
              "  }\n",
              "</style>\n",
              "\n",
              "  <script>\n",
              "    async function quickchart(key) {\n",
              "      const quickchartButtonEl =\n",
              "        document.querySelector('#' + key + ' button');\n",
              "      quickchartButtonEl.disabled = true;  // To prevent multiple clicks.\n",
              "      quickchartButtonEl.classList.add('colab-df-spinner');\n",
              "      try {\n",
              "        const charts = await google.colab.kernel.invokeFunction(\n",
              "            'suggestCharts', [key], {});\n",
              "      } catch (error) {\n",
              "        console.error('Error during call to suggestCharts:', error);\n",
              "      }\n",
              "      quickchartButtonEl.classList.remove('colab-df-spinner');\n",
              "      quickchartButtonEl.classList.add('colab-df-quickchart-complete');\n",
              "    }\n",
              "    (() => {\n",
              "      let quickchartButtonEl =\n",
              "        document.querySelector('#df-92b80498-3567-4583-9015-49a96e3ac1ba button');\n",
              "      quickchartButtonEl.style.display =\n",
              "        google.colab.kernel.accessAllowed ? 'block' : 'none';\n",
              "    })();\n",
              "  </script>\n",
              "</div>\n",
              "\n",
              "    </div>\n",
              "  </div>\n"
            ],
            "application/vnd.google.colaboratory.intrinsic+json": {
              "type": "dataframe",
              "variable_name": "data",
              "summary": "{\n  \"name\": \"data\",\n  \"rows\": 913,\n  \"fields\": [\n    {\n      \"column\": \"user_id\",\n      \"properties\": {\n        \"dtype\": \"string\",\n        \"num_unique_values\": 913,\n        \"samples\": [\n          \"A1RO932ZM1ZYNC\",\n          \"A27TITC8ON9CMZ\",\n          \"A1G2F4L08EMS24\"\n        ],\n        \"semantic_type\": \"\",\n        \"description\": \"\"\n      }\n    },\n    {\n      \"column\": \"stars\",\n      \"properties\": {\n        \"dtype\": \"number\",\n        \"std\": 0,\n        \"min\": 1,\n        \"max\": 5,\n        \"num_unique_values\": 5,\n        \"samples\": [\n          4,\n          1,\n          2\n        ],\n        \"semantic_type\": \"\",\n        \"description\": \"\"\n      }\n    },\n    {\n      \"column\": \"reviews\",\n      \"properties\": {\n        \"dtype\": \"string\",\n        \"num_unique_values\": 910,\n        \"samples\": [\n          \"Quaker's Soft Baked Oatmeal Cookies with Raisins are OK, but they left me wanting something better.  I thought they tasted good, but I found them to be a little on the dry side.  A lot of packaged cookies have an odd chemical aftertaste, but I didn't really notice much with these.<br /><br />However, I would like to see better choices on ingredients.  First, I don't understand the need for both bleached and unbleached flour.  Quaker should just stick with unbleached.  Second, I accept sugar as an ingredient.  These are cookies.  Cookies are sweet, and I expect sugar.  Yet why do they also have to use fructose, invert sugar syrup, corn syrup, and polydextrose?  These also contain molasses, which are a natural sweetener.  Finally, these have both corn starch and modified corn starch.  Again, why?  You may find other ingredients that you would question, but these seemed like the glaring issues to me.  In the end, I think this is too much to overcome when you combine it with a relatively high percentage (60 out of 170) of calories from fat.  In short, I cannot recommend these cookies.\",\n          \"Cookies are delicious and very soft, i expected a much different taste but to my surpise they were actually great. I got a sample so i will be purchasing these for my family soon.\",\n          \"Quaker Soft Baked Oatmeal Cookies are so good! They taste like a homemade cookie! If you want that right out of the oven taste try heating up the cookie for about ten seconds. It will be warm and soft!\"\n        ],\n        \"semantic_type\": \"\",\n        \"description\": \"\"\n      }\n    }\n  ]\n}"
            }
          },
          "metadata": {},
          "execution_count": 25
        }
      ],
      "source": [
        "data = pd.read_csv('/content/cookie_reviews.csv')\n",
        "data.head()"
      ]
    },
    {
      "cell_type": "markdown",
      "metadata": {
        "id": "84ifSdKT-Fvb"
      },
      "source": [
        "## Question 1 ##"
      ]
    },
    {
      "cell_type": "markdown",
      "metadata": {
        "id": "wyWuqMc4-Fvb"
      },
      "source": [
        "* Determine how many reviews there are in total.\n",
        "* Determine the percent of 1, 2, 3, 4 and 5 star reviews.\n",
        "* Determine the distribution of character lengths for the reviews, by listing the values and by plotting a histogram."
      ]
    },
    {
      "cell_type": "code",
      "source": [
        "#Question 1\n",
        "\n",
        "import pandas as pd\n",
        "\n",
        "# Load the CSV file\n",
        "file_path = '/content/cookie_reviews.csv'\n",
        "reviews_df = pd.read_csv('/content/cookie_reviews.csv')\n",
        "\n",
        "# Display the first few rows to understand the structure of the data\n",
        "reviews_df.head(), reviews_df.info()\n",
        "\n",
        "\n",
        "import matplotlib.pyplot as plt\n",
        "\n",
        "# 1. Total number of reviews\n",
        "total_reviews = reviews_df.shape[0]\n",
        "\n",
        "# 2. Percentage of each star rating\n",
        "star_counts = reviews_df['stars'].value_counts().sort_index()\n",
        "star_percentages = (star_counts / total_reviews) * 100\n",
        "\n",
        "# 3. Distribution of character lengths in reviews\n",
        "reviews_df['review_length'] = reviews_df['reviews'].apply(len)\n",
        "length_distribution = reviews_df['review_length'].describe()\n",
        "\n",
        "# Plotting the histogram of review lengths\n",
        "plt.figure(figsize=(10, 6))\n",
        "plt.hist(reviews_df['review_length'], bins=30, edgecolor='black')\n",
        "plt.title('Distribution of Review Lengths')\n",
        "plt.xlabel('Review Length (characters)')\n",
        "plt.ylabel('Frequency')\n",
        "plt.grid(True)\n",
        "plt.show()\n",
        "\n",
        "total_reviews, star_percentages, length_distribution\n"
      ],
      "metadata": {
        "colab": {
          "base_uri": "https://localhost:8080/",
          "height": 1000
        },
        "id": "ftmPPtrG-V1f",
        "outputId": "aa01db5e-c9d2-4c51-8120-67095f602f7f"
      },
      "execution_count": 9,
      "outputs": [
        {
          "output_type": "stream",
          "name": "stdout",
          "text": [
            "<class 'pandas.core.frame.DataFrame'>\n",
            "RangeIndex: 913 entries, 0 to 912\n",
            "Data columns (total 3 columns):\n",
            " #   Column   Non-Null Count  Dtype \n",
            "---  ------   --------------  ----- \n",
            " 0   user_id  913 non-null    object\n",
            " 1   stars    913 non-null    int64 \n",
            " 2   reviews  913 non-null    object\n",
            "dtypes: int64(1), object(2)\n",
            "memory usage: 21.5+ KB\n"
          ]
        },
        {
          "output_type": "display_data",
          "data": {
            "text/plain": [
              "<Figure size 1000x600 with 1 Axes>"
            ],
            "image/png": "[encoded data removed]"
          },
          "metadata": {}
        },
        {
          "output_type": "execute_result",
          "data": {
            "text/plain": [
              "(913,\n",
              " stars\n",
              " 1     0.438116\n",
              " 2     1.314348\n",
              " 3     6.133625\n",
              " 4    23.767798\n",
              " 5    68.346112\n",
              " Name: count, dtype: float64,\n",
              " count     913.000000\n",
              " mean      284.684556\n",
              " std       247.156401\n",
              " min        87.000000\n",
              " 25%       146.000000\n",
              " 50%       204.000000\n",
              " 75%       324.000000\n",
              " max      3535.000000\n",
              " Name: review_length, dtype: float64)"
            ]
          },
          "metadata": {},
          "execution_count": 9
        }
      ]
    },
    {
      "cell_type": "markdown",
      "metadata": {
        "id": "RIa-22Vh-Fvb"
      },
      "source": [
        "## Question 2 ##"
      ]
    },
    {
      "cell_type": "markdown",
      "metadata": {
        "collapsed": true,
        "id": "R8GiEK5N-Fvb"
      },
      "source": [
        "* Apply the following preprocessing steps:\n",
        "\n",
        "     1. Remove all words that contain numbers\n",
        "     2. Make all the text lowercase\n",
        "     3. Remove punctuation\n",
        "     4. Tokenize the reviews into words\n",
        "     \n",
        "  Hint #1: Use regular expressions.\n",
        "  \n",
        "  Hint #2: The cookie review in the second row has numbers, upper case letters and punctuation. You can use it to test out your regular expressions.\n",
        "     \n",
        "     \n",
        "* Find the most common words.\n",
        "* Determine the word length distribution over the entire corpus."
      ]
    },
    {
      "cell_type": "code",
      "source": [
        "#Question 2\n",
        "\n",
        "import pandas as pd\n",
        "import re\n",
        "from collections import Counter\n",
        "\n",
        "# Assuming `reviews_df` is your DataFrame and it has a column 'reviews' containing the text data.\n",
        "\n",
        "# Step 1: Remove all words that contain numbers\n",
        "reviews_df['cleaned_reviews'] = reviews_df['reviews'].apply(lambda x: re.sub(r'\\w*\\d\\w*', '', x))\n",
        "\n",
        "# Step 2: Make all the text lowercase\n",
        "reviews_df['cleaned_reviews'] = reviews_df['cleaned_reviews'].str.lower()\n",
        "\n",
        "# Step 3: Remove punctuation\n",
        "reviews_df['cleaned_reviews'] = reviews_df['cleaned_reviews'].apply(lambda x: re.sub(r'[^\\w\\s]', '', x))\n",
        "\n",
        "# Step 4: Tokenize the reviews into words\n",
        "reviews_df['tokens'] = reviews_df['cleaned_reviews'].apply(lambda x: x.split())\n",
        "\n",
        "# Step 5: Find the most common words\n",
        "all_words = [word for tokens in reviews_df['tokens'] for word in tokens]\n",
        "word_counts = Counter(all_words)\n",
        "most_common_words = word_counts.most_common(10)\n",
        "\n",
        "# Step 6: Determine the word length distribution\n",
        "word_lengths = [len(word) for word in all_words]\n",
        "word_length_distribution = Counter(word_lengths)\n",
        "\n",
        "# Display the results\n",
        "print(\"Most Common Words:\", most_common_words)\n",
        "print(\"Word Length Distribution:\", word_length_distribution)\n"
      ],
      "metadata": {
        "colab": {
          "base_uri": "https://localhost:8080/"
        },
        "id": "UHsfAHj4_k6-",
        "outputId": "661a74eb-cc51-4dc6-8c0b-8b04fe065414"
      },
      "execution_count": 23,
      "outputs": [
        {
          "output_type": "stream",
          "name": "stdout",
          "text": [
            "Most Common Words: [('i', 2003), ('and', 1748), ('the', 1645), ('a', 1303), ('to', 990), ('it', 930), ('my', 837), ('cookies', 835), ('cookie', 824), ('of', 780)]\n",
            "Word Length Distribution: Counter({3: 10083, 4: 9846, 2: 7276, 5: 5880, 6: 4115, 7: 3684, 1: 3331, 8: 1290, 9: 1101, 10: 543, 11: 448, 12: 178, 13: 61, 14: 46, 15: 13, 35: 6, 17: 4, 16: 3, 18: 2, 37: 1, 22: 1})\n"
          ]
        }
      ]
    },
    {
      "cell_type": "markdown",
      "metadata": {
        "id": "0TmmkTBh-Fvc"
      },
      "source": [
        "## Question 3 ##"
      ]
    },
    {
      "cell_type": "markdown",
      "metadata": {
        "id": "ZG0TaLEX-Fvc"
      },
      "source": [
        "* Apply the following preprocessing techniques:\n",
        "\n",
        "     * Remove stopwords\n",
        "     * Perform parts of speech tagging\n",
        "     * Perform stemming\n",
        "     * Optional: Perform lemmatization\n",
        "\n",
        "  Recommendation: Create a new column in your data set for every preprocessing technique you apply, so you can see the progression of the reviews text."
      ]
    },
    {
      "cell_type": "code",
      "source": [
        "import nltk\n",
        "from nltk.corpus import stopwords\n",
        "from nltk.stem import PorterStemmer, WordNetLemmatizer\n",
        "from nltk import pos_tag\n",
        "\n",
        "# Ensure required resources are available\n",
        "nltk.download('stopwords')\n",
        "nltk.download('averaged_perceptron_tagger')\n",
        "nltk.download('wordnet')\n",
        "nltk.download('omw-1.4')\n",
        "\n",
        "# Initialize the stop words, stemmer, and lemmatizer\n",
        "stop_words = set(stopwords.words('english'))\n",
        "stemmer = PorterStemmer()\n",
        "lemmatizer = WordNetLemmatizer()\n",
        "\n",
        "# Assume `reviews_df` is your DataFrame and it already has the `tokens` column\n",
        "\n",
        "# Step 1: Remove Stopwords\n",
        "reviews_df['no_stopwords'] = reviews_df['tokens'].apply(lambda tokens: [word for word in tokens if word not in stop_words])\n",
        "\n",
        "# Step 2: Perform Parts of Speech Tagging\n",
        "reviews_df['pos_tags'] = reviews_df['no_stopwords'].apply(lambda tokens: pos_tag(tokens))\n",
        "\n",
        "# Step 3: Perform Stemming\n",
        "reviews_df['stemmed'] = reviews_df['no_stopwords'].apply(lambda tokens: [stemmer.stem(word) for word in tokens])\n",
        "\n",
        "# Optional Step: Perform Lemmatization\n",
        "reviews_df['lemmatized'] = reviews_df['no_stopwords'].apply(lambda tokens: [lemmatizer.lemmatize(word) for word in tokens])\n",
        "\n",
        "# Display the progression of the reviews text\n",
        "print(reviews_df[['tokens', 'no_stopwords', 'pos_tags', 'stemmed', 'lemmatized']].head())\n"
      ],
      "metadata": {
        "colab": {
          "base_uri": "https://localhost:8080/"
        },
        "id": "ySdlXL2aB42K",
        "outputId": "c3547a9a-9334-413c-854e-3e8ce0251673"
      },
      "execution_count": 24,
      "outputs": [
        {
          "output_type": "stream",
          "name": "stderr",
          "text": [
            "[nltk_data] Downloading package stopwords to /root/nltk_data...\n",
            "[nltk_data]   Package stopwords is already up-to-date!\n",
            "[nltk_data] Downloading package averaged_perceptron_tagger to\n",
            "[nltk_data]     /root/nltk_data...\n",
            "[nltk_data]   Package averaged_perceptron_tagger is already up-to-\n",
            "[nltk_data]       date!\n",
            "[nltk_data] Downloading package wordnet to /root/nltk_data...\n",
            "[nltk_data]   Package wordnet is already up-to-date!\n",
            "[nltk_data] Downloading package omw-1.4 to /root/nltk_data...\n",
            "[nltk_data]   Package omw-1.4 is already up-to-date!\n"
          ]
        },
        {
          "output_type": "stream",
          "name": "stdout",
          "text": [
            "                                              tokens  \\\n",
            "0  [i, love, these, cookies, not, only, are, they...   \n",
            "1  [quaker, soft, baked, oatmeal, cookies, with, ...   \n",
            "2  [i, am, usually, not, a, huge, fan, of, oatmea...   \n",
            "3  [i, participated, in, a, product, review, that...   \n",
            "4  [my, kids, loved, these, i, was, very, pleased...   \n",
            "\n",
            "                                        no_stopwords  \\\n",
            "0  [love, cookies, healthy, taste, great, soft, d...   \n",
            "1  [quaker, soft, baked, oatmeal, cookies, raisin...   \n",
            "2  [usually, huge, fan, oatmeal, cookies, literal...   \n",
            "3  [participated, product, review, included, samp...   \n",
            "4  [kids, loved, pleased, give, kids, quick, go, ...   \n",
            "\n",
            "                                            pos_tags  \\\n",
            "0  [(love, VB), (cookies, NNS), (healthy, JJ), (t...   \n",
            "1  [(quaker, NN), (soft, JJ), (baked, VBD), (oatm...   \n",
            "2  [(usually, RB), (huge, JJ), (fan, NN), (oatmea...   \n",
            "3  [(participated, JJ), (product, NN), (review, N...   \n",
            "4  [(kids, NNS), (loved, VBD), (pleased, JJ), (gi...   \n",
            "\n",
            "                                             stemmed  \\\n",
            "0  [love, cooki, healthi, tast, great, soft, defi...   \n",
            "1  [quaker, soft, bake, oatmeal, cooki, raisin, d...   \n",
            "2  [usual, huge, fan, oatmeal, cooki, liter, melt...   \n",
            "3  [particip, product, review, includ, sampl, hre...   \n",
            "4  [kid, love, pleas, give, kid, quick, go, healt...   \n",
            "\n",
            "                                          lemmatized  \n",
            "0  [love, cooky, healthy, taste, great, soft, def...  \n",
            "1  [quaker, soft, baked, oatmeal, cooky, raisin, ...  \n",
            "2  [usually, huge, fan, oatmeal, cooky, literally...  \n",
            "3  [participated, product, review, included, samp...  \n",
            "4  [kid, loved, pleased, give, kid, quick, go, he...  \n"
          ]
        }
      ]
    },
    {
      "cell_type": "markdown",
      "metadata": {
        "collapsed": true,
        "id": "XLswcSna-Fvc"
      },
      "source": [
        "## Question 4 ##"
      ]
    },
    {
      "cell_type": "markdown",
      "metadata": {
        "id": "YVaV8wPn-Fvc"
      },
      "source": [
        "* After going through these preprocessing steps, what are the most common words now? Do they make more sense?"
      ]
    },
    {
      "cell_type": "code",
      "source": [
        "import nltk\n",
        "from nltk.corpus import stopwords\n",
        "from nltk.stem import PorterStemmer, WordNetLemmatizer\n",
        "from nltk import pos_tag\n",
        "import pandas as pd # import pandas\n",
        "\n",
        "# Ensure required resources are available\n",
        "nltk.download('stopwords')\n",
        "nltk.download('averaged_perceptron_tagger')\n",
        "nltk.download('wordnet')\n",
        "nltk.download('omw-1.4')\n",
        "\n",
        "# Initialize the stop words, stemmer, and lemmatizer\n",
        "stop_words = set(stopwords.words('english'))\n",
        "stemmer = PorterStemmer()\n",
        "lemmatizer = WordNetLemmatizer()\n",
        "\n",
        "# Assuming your DataFrame is named 'df' and the text column is named 'text'\n",
        "# Replace 'df' and 'text' with your actual DataFrame and column names\n",
        "\n",
        "# Create a sample DataFrame (replace with your actual data)\n",
        "df = pd.DataFrame({'text': ['This is an example sentence.', 'Another sentence for demonstration.']}) # create a sample dataframe\n",
        "\n",
        "# Tokenize the text into words\n",
        "df['tokens'] = df['text'].apply(lambda x: x.split())\n",
        "\n",
        "# Step 1: Remove stopwords\n",
        "df['no_stopwords'] = df['tokens'].apply(lambda tokens: [word for word in tokens if word.lower() not in stop_words])\n",
        "\n",
        "# Step 2: Perform parts of speech tagging\n",
        "df['pos_tags'] = df['no_stopwords'].apply(lambda tokens: pos_tag(tokens))\n",
        "\n",
        "# Step 3: Perform stemming\n",
        "df['stemmed'] = df['no_stopwords'].apply(lambda tokens: [stemmer.stem(word) for word in tokens])\n",
        "\n",
        "# Optional Step: Perform lemmatization\n",
        "df['lemmatized'] = df['no_stopwords'].apply(lambda tokens: [lemmatizer.lemmatize(word) for word in tokens])\n",
        "\n",
        "# Display the first few rows to see the progression of the text\n",
        "print(df[['tokens', 'no_stopwords', 'pos_tags', 'stemmed', 'lemmatized']].head())\n",
        "\n"
      ],
      "metadata": {
        "colab": {
          "base_uri": "https://localhost:8080/"
        },
        "id": "0Wg5aUkA_7uj",
        "outputId": "ab355bed-cbe4-4dc8-8df1-829673fa6698"
      },
      "execution_count": 16,
      "outputs": [
        {
          "output_type": "stream",
          "name": "stderr",
          "text": [
            "[nltk_data] Downloading package stopwords to /root/nltk_data...\n",
            "[nltk_data]   Package stopwords is already up-to-date!\n",
            "[nltk_data] Downloading package averaged_perceptron_tagger to\n",
            "[nltk_data]     /root/nltk_data...\n",
            "[nltk_data]   Package averaged_perceptron_tagger is already up-to-\n",
            "[nltk_data]       date!\n",
            "[nltk_data] Downloading package wordnet to /root/nltk_data...\n",
            "[nltk_data]   Package wordnet is already up-to-date!\n",
            "[nltk_data] Downloading package omw-1.4 to /root/nltk_data...\n",
            "[nltk_data]   Package omw-1.4 is already up-to-date!\n"
          ]
        },
        {
          "output_type": "stream",
          "name": "stdout",
          "text": [
            "                                     tokens  \\\n",
            "0        [This, is, an, example, sentence.]   \n",
            "1  [Another, sentence, for, demonstration.]   \n",
            "\n",
            "                          no_stopwords  \\\n",
            "0                 [example, sentence.]   \n",
            "1  [Another, sentence, demonstration.]   \n",
            "\n",
            "                                            pos_tags  \\\n",
            "0                   [(example, NN), (sentence., NN)]   \n",
            "1  [(Another, DT), (sentence, NN), (demonstration...   \n",
            "\n",
            "                            stemmed                           lemmatized  \n",
            "0               [exampl, sentence.]                 [example, sentence.]  \n",
            "1  [anoth, sentenc, demonstration.]  [Another, sentence, demonstration.]  \n"
          ]
        }
      ]
    }
  ],
  "metadata": {
    "kernelspec": {
      "display_name": "Python 2",
      "language": "python",
      "name": "python2"
    },
    "language_info": {
      "codemirror_mode": {
        "name": "ipython",
        "version": 2
      },
      "file_extension": ".py",
      "mimetype": "text/x-python",
      "name": "python",
      "nbconvert_exporter": "python",
      "pygments_lexer": "ipython2",
      "version": "2.7.13"
    },
    "toc": {
      "colors": {
        "hover_highlight": "#DAA520",
        "navigate_num": "#000000",
        "navigate_text": "#333333",
        "running_highlight": "#FF0000",
        "selected_highlight": "#FFD700",
        "sidebar_border": "#EEEEEE",
        "wrapper_background": "#FFFFFF"
      },
      "moveMenuLeft": true,
      "nav_menu": {
        "height": "48px",
        "width": "252px"
      },
      "navigate_menu": true,
      "number_sections": true,
      "sideBar": true,
      "threshold": 4,
      "toc_cell": false,
      "toc_section_display": "block",
      "toc_window_display": false,
      "widenNotebook": false
    },
    "colab": {
      "provenance": [],
      "include_colab_link": true
    }
  },
  "nbformat": 4,
  "nbformat_minor": 0
}